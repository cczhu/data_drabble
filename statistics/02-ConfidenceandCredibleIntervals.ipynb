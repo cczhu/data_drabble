{
 "cells": [
  {
   "cell_type": "markdown",
   "metadata": {},
   "source": [
    "# Bayesian vs. Frequentist Confidence Intervals\n",
    "\n",
    "## Frequentist Interpretation\n",
    "\n",
    "Following [these lecture notes](http://idiom.ucsd.edu/~rlevy/lign251/fall2007/lecture_7.pdf) from [Roger Levy's Linguistics 251 course](http://idiom.ucsd.edu/~rlevy/lign251/fall2007/), for a sample $S$, we can construct, using procedure $\\mathrm{Pr}$, a confidence interval $I$ that is meant to contain the true value of parameter $\\theta$.  If we draw a large number of samples $S$ and use $\\mathrm{Pr}$ on each to get intervals $I$, some fraction $p$ of the intervals will contain the true value of $\\theta$.  We may tune $\\mathrm{Pr}$ so that, eg., $p = 95$\\%.  Then, for a given sample $S$, the interval $I$ constructed by $\\mathrm{Pr}$ is the $p$\\% confidence interval for $\\theta$.\n",
    "\n",
    "### Standard Error Confidence Intervals\n",
    "\n",
    "Recall that\n",
    "\n",
    "\\begin{eqnarray}\n",
    "\\frac{1}{\\sigma^2}\\sum_{i=1}^n(x_i - \\hat{\\mu})^2 &\\sim& \\chi^2_{n-1} \\\\\n",
    "\\hat{\\mu} &=& \\frac{1}{n}\\sum_{i=1}^n x_i\n",
    "\\end{eqnarray}\n",
    "\n",
    "The unbiased estimator for the variance,\n",
    "\n",
    "\\begin{eqnarray}\n",
    "S^2 &=& \\frac{1}{n - 1}\\sum_{i=1}^n(x_i - \\hat{\\mu})^2 \\\\\n",
    "    &=& \\frac{\\sigma^2}{n - 1}\\frac{1}{\\sigma^2}\\sum_{i=1}^n(x_i - \\hat{\\mu})^2\n",
    "\\end{eqnarray}\n",
    "\n",
    "So $\\frac{n - 1}{\\sigma^2}S^2 \\sim \\chi^2$.  Also, $\\hat{\\mu}$ itself is distributed with mean $\\mu$ (it's an unbiased estimator for the true mean) and variance $\\sigma^2 / n$ (which we can derive from the sum of variances)  This means that\n",
    "\n",
    "$$\n",
    "(\\hat{\\mu} - \\mu)\\frac{\\sqrt{n}}{\\sigma} \\sim \\mathcal{N}(0, 1)\n",
    "$$\n",
    "\n",
    "The $t$-distribution is defined as\n",
    "\n",
    "$$\n",
    "t_n \\equiv \\frac{Z}{\\sqrt{U / n}}\n",
    "$$\n",
    "\n",
    "where $Z \\sim \\mathcal{N}(0, 1)$, $U \\sim \\chi^2_n$, and $n$ is the degrees of freedom.  Thus,\n",
    "\n"
   ]
  },
  {
   "cell_type": "code",
   "execution_count": null,
   "metadata": {},
   "outputs": [],
   "source": []
  }
 ],
 "metadata": {
  "kernelspec": {
   "display_name": "Python 3",
   "language": "python",
   "name": "python3"
  },
  "language_info": {
   "codemirror_mode": {
    "name": "ipython",
    "version": 3
   },
   "file_extension": ".py",
   "mimetype": "text/x-python",
   "name": "python",
   "nbconvert_exporter": "python",
   "pygments_lexer": "ipython3",
   "version": "3.6.9"
  }
 },
 "nbformat": 4,
 "nbformat_minor": 2
}
