{
 "cells": [
  {
   "cell_type": "markdown",
   "metadata": {},
   "source": [
    "# Fair Coins from a Frequentist and Bayesian Methodology\n",
    "\n",
    "## Bayesian Methodology\n",
    "\n",
    "Following [these lecture notes](http://idiom.ucsd.edu/~rlevy/lign251/fall2007/lecture_9.pdf) from [Roger Levy's Linguistics 251 course](http://idiom.ucsd.edu/~rlevy/lign251/fall2007/), let us set up two hypotheses, $H_f$ that the coin is fair, and $H_{uf}$ that it is unfair.  Assume our data is $\\vec{x}$.  Then\n",
    "\n",
    "\\begin{eqnarray}\n",
    "P(H_f|\\vec{x}) &=& \\frac{P(H_f|\\vec{x})P(H_f)}{P(\\vec{x})} \\\\\n",
    "P(H_{uf}|\\vec{x}) &=& 1 - P(H_f|\\vec{x})\n",
    "\\end{eqnarray}\n",
    "\n",
    "Moreover, we must marginalize over the possible hypotheses:\n",
    "\n",
    "$$\n",
    "P(\\vec{x}) = P(\\vec{x}|H_f)P(H_f) + P(\\vec{x}|H_{uf})P(H_{uf})\n",
    "$$\n",
    "\n",
    "To use these equations, we'll need to specify the hypotheses and their probabilities.  Take $\\pi$ to be probability of heads (more generally the Bernoulli parameter).  Then $H_f$ states that $P(\\pi|H_f) = 1$ for $\\pi = 0.5$ and zero elsewhere - the probability is a delta function.  Then:\n",
    "\n",
    "$$\n",
    "P(\\vec{x}|H_f) = \\sum_i P(\\vec{x}|\\pi_i)P_{H_f}(\\pi_i) = P(\\vec{x}|\\pi_i = 0.5)\n",
    "$$\n",
    "\n",
    "For $H_{uf}$ we run into a problem, since we'd likely want to assume $\\pi \\in [0, 1]$ (and is thus uniformly distributed), and is equally likely to take on any value within that range.  In that case:\n",
    "\n",
    "$$\n",
    "P(\\vec{x}|H_{uf}) = \\sum_i P(\\vec{x}|\\pi_i)P_{H_{uf}}(\\pi_i) = \\int_0^1 P(\\vec{x}|\\pi_i)P(\\pi_i)d\\pi\n",
    "$$\n",
    "\n",
    "$P(\\pi_i) = 1$ for a uniform RV about $[0, 1]$, and $P(\\vec{x}|\\pi_i) = \\pi^{n_\\mathrm{heads}}(1 - \\pi)^{n_\\mathrm{tails}}$\n",
    "\n",
    "http://idiom.ucsd.edu/~rlevy/lign251/fall2007/lecture_7.pdf\n",
    "\n",
    "Following [Cam Davidson's coin flip example](https://github.com/CamDavidsonPilon/Probabilistic-Programming-and-Bayesian-Methods-for-Hackers/blob/master/Chapter1_Introduction/Ch1_Introduction_PyMC3.ipynb), set up "
   ]
  },
  {
   "cell_type": "code",
   "execution_count": null,
   "metadata": {},
   "outputs": [],
   "source": []
  }
 ],
 "metadata": {
  "kernelspec": {
   "display_name": "Python 3",
   "language": "python",
   "name": "python3"
  },
  "language_info": {
   "codemirror_mode": {
    "name": "ipython",
    "version": 3
   },
   "file_extension": ".py",
   "mimetype": "text/x-python",
   "name": "python",
   "nbconvert_exporter": "python",
   "pygments_lexer": "ipython3",
   "version": "3.5.2"
  }
 },
 "nbformat": 4,
 "nbformat_minor": 2
}
