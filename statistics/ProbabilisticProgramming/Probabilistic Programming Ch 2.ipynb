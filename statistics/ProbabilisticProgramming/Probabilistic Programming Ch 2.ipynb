{
 "cells": [
  {
   "cell_type": "markdown",
   "metadata": {},
   "source": [
    "# Probablistic Programming - Chapter 2\n",
    "\n",
    "These are notes based on Chapter 2 of [Cam Davidson Pilon's Probabilistic Programming for Hackers](https://github.com/CamDavidsonPilon/Probabilistic-Programming-and-Bayesian-Methods-for-Hackers).  Some notes from [Getting Started with PyMC3](https://docs.pymc.io/notebooks/getting_started.html).\n",
    "\n",
    "* From Getting Started:\n",
    "  * PyMC3 features next-generation MCMC sampling algorithms such as NUTS, a self-tuning variant of Hamiltonian Monte Carlo.\n",
    "  * These allow for much faster convergence by using gradient information from likelihood.\n",
    "  * NUTS also self-tunes, reducing the necessity for users to understand the algorithm in detail.\n",
    "  * Backend is Theano.\n",
    "* PyMC3 uses context managers to populate model variables.  Any variables placed inside a model's context manager (such as `x` below) are added to the model\n",
    "\n",
    "```Python\n",
    "basic_model = pymc3.Model()\n",
    "\n",
    "with basic_model:\n",
    "    x = pymc3.Normal('alpha', mu=0, sigma=10)\n",
    "    ...\n",
    "```\n",
    "\n",
    "* (Recall that using `with ... as x` adds `x` to the namespace the `with` block is in.  If `x` is a file handle from `open`, `x` is instantiated, then context manager actions are run (for the file handle, opening the file at the start and closing at the end of the block).\n",
    "* **Defining** variables must be done inside `with` blocks, since they're registered with the model as part of the model's `__exit__`.  **Accessing** model values afterward isn't.\n",
    "* "
   ]
  },
  {
   "cell_type": "code",
   "execution_count": 4,
   "metadata": {},
   "outputs": [],
   "source": [
    "import pymc3 as pm\n",
    "\n",
    "with pm.Model() as model:\n",
    "    parameter = pm.Exponential(\"poisson_param\", 1.0)\n",
    "    data_generator = pm.Poisson(\"data_generator\", parameter)\n",
    "    \n",
    "    # Manually specifying initial value.\n",
    "    test1 = pm.Exponential(\"test1\", 1., testval=0.5)"
   ]
  },
  {
   "cell_type": "code",
   "execution_count": 5,
   "metadata": {},
   "outputs": [
    {
     "data": {
      "text/plain": [
       "array(0.69314718)"
      ]
     },
     "execution_count": 5,
     "metadata": {},
     "output_type": "execute_result"
    }
   ],
   "source": [
    "# Can request a test value from parameter.  \n",
    "parameter.tag.test_value"
   ]
  },
  {
   "cell_type": "code",
   "execution_count": 6,
   "metadata": {},
   "outputs": [
    {
     "data": {
      "text/plain": [
       "array(0.5)"
      ]
     },
     "execution_count": 6,
     "metadata": {},
     "output_type": "execute_result"
    }
   ],
   "source": [
    "test1.tag.test_value"
   ]
  },
  {
   "cell_type": "markdown",
   "metadata": {},
   "source": [
    "* PyMC3 will notify the user about any pre-transformations it performs to modify the space the variable is sampled from (these are done to speed up convergence).\n",
    "* PyMC3 is concerned with two types of variables:\n",
    "  * Stochastic variables, like `pm.Poisson`.\n",
    "  * Deterministic variables, which are in themselves not random, but may depend on stochastic variables."
   ]
  },
  {
   "cell_type": "code",
   "execution_count": 24,
   "metadata": {},
   "outputs": [],
   "source": [
    "import pymc3 as pm\n",
    "\n",
    "def subtract(x, y):\n",
    "    return x - y\n",
    "\n",
    "with pm.Model() as dummy:\n",
    "    # Stochastic variable, where lower, upper bounds are specified.\n",
    "    # shape generates a number of IID variables.\n",
    "    betas = pm.Uniform(\"betas\", 0, 10, shape=5)\n",
    "\n",
    "    lambda_1 = pm.Exponential(\"lambda_1\", 1.0)\n",
    "    lambda_2 = pm.Exponential(\"lambda_2\", 1.0)\n",
    "    # Implicitly creates a deterministic variable\n",
    "    lambda_deterministic = lambda_1 + lambda_2\n",
    "\n",
    "    # Explicitly create a deterministic variable.\n",
    "    lambda_diff = pm.Deterministic(\"Delta\", subtract(lambda_2, lambda_1))"
   ]
  },
  {
   "cell_type": "markdown",
   "metadata": {},
   "source": [
    "* For more sophisticated operations, Theano operations are used - eg. `theano.tensor.stack` rather than `numpy.stack`.\n",
    "* Priors for model parameters are created by specifying their distributions, as above."
   ]
  },
  {
   "cell_type": "code",
   "execution_count": 17,
   "metadata": {},
   "outputs": [
    {
     "name": "stderr",
     "output_type": "stream",
     "text": [
      "/home/czhu/pipenv/bditto/lib/python3.6/site-packages/ipykernel_launcher.py:6: MatplotlibDeprecationWarning: \n",
      "The 'normed' kwarg was deprecated in Matplotlib 2.1 and will be removed in 3.1. Use 'density' instead.\n",
      "  \n"
     ]
    },
    {
     "data": {
      "image/png": "[encoded data removed]",
      "text/plain": [
       "<Figure size 720x432 with 1 Axes>"
      ]
     },
     "metadata": {
      "needs_background": "light"
     },
     "output_type": "display_data"
    }
   ],
   "source": [
    "import matplotlib.pyplot as plt\n",
    "\n",
    "samples = lambda_1.random(size=20000)\n",
    "\n",
    "fig, ax = plt.subplots(figsize=(10, 6))\n",
    "ax.hist(samples, bins=70, normed=True, histtype=\"stepfilled\")\n",
    "ax.set_title(\"Prior distribution for $\\lambda_1$\")\n",
    "ax.set_xlim(0, 8);"
   ]
  },
  {
   "cell_type": "markdown",
   "metadata": {},
   "source": [
    "* To create an **observed stochastic** variable - to calculate likelihoods with - use the `observed` keyword."
   ]
  },
  {
   "cell_type": "code",
   "execution_count": 27,
   "metadata": {},
   "outputs": [],
   "source": [
    "import numpy as np\n",
    "\n",
    "with dummy:\n",
    "    obs = pm.Poisson(\"obs\", lambda_deterministic, observed=np.random.randint(10, size=1000))"
   ]
  },
  {
   "cell_type": "code",
   "execution_count": null,
   "metadata": {},
   "outputs": [],
   "source": []
  }
 ],
 "metadata": {
  "kernelspec": {
   "display_name": "Python 3",
   "language": "python",
   "name": "python3"
  },
  "language_info": {
   "codemirror_mode": {
    "name": "ipython",
    "version": 3
   },
   "file_extension": ".py",
   "mimetype": "text/x-python",
   "name": "python",
   "nbconvert_exporter": "python",
   "pygments_lexer": "ipython3",
   "version": "3.6.9"
  }
 },
 "nbformat": 4,
 "nbformat_minor": 2
}
