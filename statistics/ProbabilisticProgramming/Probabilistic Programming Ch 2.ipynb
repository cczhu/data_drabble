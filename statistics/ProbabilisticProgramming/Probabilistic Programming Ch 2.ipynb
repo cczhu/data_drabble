{
 "cells": [
  {
   "cell_type": "markdown",
   "metadata": {},
   "source": [
    "# Probablistic Programming - Chapter 2\n",
    "\n",
    "These are notes based on Chapter 2 of [Cam Davidson Pilon's Probabilistic Programming for Hackers](https://github.com/CamDavidsonPilon/Probabilistic-Programming-and-Bayesian-Methods-for-Hackers).  Some notes from [Getting Started with PyMC3](https://docs.pymc.io/notebooks/getting_started.html).\n",
    "\n",
    "* From Getting Started:\n",
    "  * PyMC3 features next-generation MCMC sampling algorithms such as NUTS, a self-tuning variant of Hamiltonian Monte Carlo.\n",
    "  * These allow for much faster convergence by using gradient information from likelihood.\n",
    "  * NUTS also self-tunes, reducing the necessity for users to understand the algorithm in detail.\n",
    "  * Backend is Theano.\n",
    "* PyMC3 uses context managers to populate model variables.  Any variables placed inside a model's context manager (such as `x` below) are added to the model\n",
    "\n",
    "```Python\n",
    "basic_model = pymc3.Model()\n",
    "\n",
    "with basic_model:\n",
    "    x = pymc3.Normal('alpha', mu=0, sigma=10)\n",
    "    ...\n",
    "```\n",
    "\n",
    "* (Recall that using `with ... as x` adds `x` to the namespace the `with` block is in.  If `x` is a file handle from `open`, `x` is instantiated, then context manager actions are run (for the file handle, opening the file at the start and closing at the end of the block).\n",
    "* **Defining** variables must be done inside `with` blocks, since they're registered with the model as part of the model's `__exit__`.  **Accessing** model values afterward isn't."
   ]
  },
  {
   "cell_type": "code",
   "execution_count": 1,
   "metadata": {},
   "outputs": [],
   "source": [
    "import pymc3 as pm\n",
    "\n",
    "with pm.Model() as model:\n",
    "    parameter = pm.Exponential(\"poisson_param\", 1.0)\n",
    "    data_generator = pm.Poisson(\"data_generator\", parameter)\n",
    "    \n",
    "    # Manually specifying initial value.\n",
    "    test1 = pm.Exponential(\"test1\", 1., testval=0.5)"
   ]
  },
  {
   "cell_type": "code",
   "execution_count": 2,
   "metadata": {},
   "outputs": [
    {
     "data": {
      "text/plain": [
       "array(0.69314718)"
      ]
     },
     "execution_count": 2,
     "metadata": {},
     "output_type": "execute_result"
    }
   ],
   "source": [
    "# Can request a test value from parameter.  \n",
    "parameter.tag.test_value"
   ]
  },
  {
   "cell_type": "code",
   "execution_count": 3,
   "metadata": {},
   "outputs": [
    {
     "data": {
      "text/plain": [
       "array(0.5)"
      ]
     },
     "execution_count": 3,
     "metadata": {},
     "output_type": "execute_result"
    }
   ],
   "source": [
    "test1.tag.test_value"
   ]
  },
  {
   "cell_type": "markdown",
   "metadata": {},
   "source": [
    "* PyMC3 will notify the user about any pre-transformations it performs to modify the space the variable is sampled from (these are done to speed up convergence).\n",
    "* PyMC3 is concerned with two types of variables:\n",
    "  * Stochastic variables, like `pm.Poisson`.\n",
    "  * Deterministic variables, which are in themselves not random, but may depend on stochastic variables."
   ]
  },
  {
   "cell_type": "code",
   "execution_count": 4,
   "metadata": {},
   "outputs": [],
   "source": [
    "import pymc3 as pm\n",
    "\n",
    "def subtract(x, y):\n",
    "    return x - y\n",
    "\n",
    "with pm.Model() as dummy:\n",
    "    # Stochastic variable, where lower, upper bounds are specified.\n",
    "    # shape generates a number of IID variables.\n",
    "    betas = pm.Uniform(\"betas\", 0, 10, shape=5)\n",
    "\n",
    "    lambda_1 = pm.Exponential(\"lambda_1\", 1.0)\n",
    "    lambda_2 = pm.Exponential(\"lambda_2\", 1.0)\n",
    "    # Implicitly creates a deterministic variable\n",
    "    lambda_deterministic = lambda_1 + lambda_2\n",
    "\n",
    "    # Explicitly create a deterministic variable.\n",
    "    lambda_diff = pm.Deterministic(\"Delta\", subtract(lambda_2, lambda_1))"
   ]
  },
  {
   "cell_type": "markdown",
   "metadata": {},
   "source": [
    "* For more sophisticated operations, Theano operations are used - eg. `theano.tensor.stack` rather than `numpy.stack`.\n",
    "* Priors for model parameters are created by specifying their distributions, as above."
   ]
  },
  {
   "cell_type": "code",
   "execution_count": 5,
   "metadata": {},
   "outputs": [
    {
     "data": {
      "image/png": "[encoded data removed]",
      "text/plain": [
       "<Figure size 720x432 with 1 Axes>"
      ]
     },
     "metadata": {
      "needs_background": "light"
     },
     "output_type": "display_data"
    }
   ],
   "source": [
    "import matplotlib.pyplot as plt\n",
    "\n",
    "samples = lambda_1.random(size=20000)\n",
    "\n",
    "fig, ax = plt.subplots(figsize=(10, 6))\n",
    "ax.hist(samples, bins=70, density=True, histtype=\"stepfilled\")\n",
    "ax.set_title(\"Prior distribution for $\\lambda_1$\")\n",
    "ax.set_xlim(0, 8);"
   ]
  },
  {
   "cell_type": "markdown",
   "metadata": {},
   "source": [
    "* To create an **observed stochastic** variable - to calculate likelihoods with - use the `observed` keyword."
   ]
  },
  {
   "cell_type": "code",
   "execution_count": 6,
   "metadata": {},
   "outputs": [],
   "source": [
    "import numpy as np\n",
    "\n",
    "with dummy:\n",
    "    # I'm not totally certain what the shape limitations of `observed` are -\n",
    "    # the docs don't describe this in detail.\n",
    "    obs = pm.Poisson(\"obs\", lambda_deterministic,\n",
    "                     observed=np.random.randint(10, size=1000))"
   ]
  },
  {
   "cell_type": "markdown",
   "metadata": {},
   "source": [
    "* Typical method for thinking about how to build a hierarchical Bayesian model is to back-engineer how the data could be generated.  Here's how to think about Cam's example from Pt. 1, in his words:\n",
    "\n",
    "> We started by thinking \"what is the best random variable to describe this count data?\" A Poisson random variable is a good candidate because it can represent count data. So we model the number of sms's received as sampled from a Poisson distribution.\n",
    "\n",
    "> Next, we think, \"Ok, assuming sms's are Poisson-distributed, what do I need for the Poisson distribution?\" Well, the Poisson distribution has a parameter $\\lambda$.\n",
    "\n",
    "> Do we know $\\lambda$? No. In fact, we have a suspicion that there are two $\\lambda$ values, one for the earlier behaviour and one for the later behaviour. We don't know when the behaviour switches though, but call the switchpoint τ.\n",
    "\n",
    "> What is a good distribution for the two $\\lambda$s? The exponential is good, as it assigns probabilities to positive real numbers. Well the exponential distribution has a parameter too, call it $\\alpha$.\n",
    "\n",
    "> Do we know what the parameter $\\alpha$ might be? No. At this point, we could continue and assign a distribution to $\\alpha$, but it's better to stop once we reach a set level of ignorance: whereas we have a prior belief about $\\lambda$, (\"it probably changes over time\", \"it's likely between 10 and 30\", etc.), we don't really have any strong beliefs about $\\alpha$. So it's best to stop here.\n",
    "\n",
    "> What is a good value for $\\alpha$ then? We think that the λs are between 10-30, so if we set α really low (which corresponds to larger probability on high values) we are not reflecting our prior well. Similar, a too-high alpha misses our prior belief as well. A good idea for $\\alpha$ as to reflect our belief is to set the value so that the mean of $\\lambda$, given $\\alpha$, is equal to our observed mean. This was shown in the last chapter.\n",
    "\n",
    "> We have no expert opinion of when $\\tau$ might have occurred. So we will suppose $\\tau$ is from a discrete uniform distribution over the entire timespan.\n",
    "\n",
    "* In short - backtrack until your understanding of causal dependence gets murky enough to start using priors."
   ]
  },
  {
   "cell_type": "code",
   "execution_count": null,
   "metadata": {},
   "outputs": [],
   "source": []
  }
 ],
 "metadata": {
  "kernelspec": {
   "display_name": "Python 3",
   "language": "python",
   "name": "python3"
  },
  "language_info": {
   "codemirror_mode": {
    "name": "ipython",
    "version": 3
   },
   "file_extension": ".py",
   "mimetype": "text/x-python",
   "name": "python",
   "nbconvert_exporter": "python",
   "pygments_lexer": "ipython3",
   "version": "3.6.9"
  }
 },
 "nbformat": 4,
 "nbformat_minor": 2
}
